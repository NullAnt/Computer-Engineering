{
  "cells": [
    {
      "cell_type": "markdown",
      "id": "1a0eae52",
      "metadata": {
        "id": "1a0eae52"
      },
      "source": [
        "1. Create dataset"
      ]
    },
    {
      "cell_type": "code",
      "execution_count": 1,
      "id": "5767bca2",
      "metadata": {
        "colab": {
          "base_uri": "https://localhost:8080/"
        },
        "id": "5767bca2",
        "outputId": "c910bbfb-9047-4834-93c5-7ee44afa0407"
      },
      "outputs": [
        {
          "output_type": "stream",
          "name": "stdout",
          "text": [
            "  CustomerID   Name    Age      JoinDate  MonthlyCharges Churn\n",
            "0       C001   John   25.0     12/1/2024           29.85    No\n",
            "1       C002  Alice   34.0    11/15/2023           56.95   Yes\n",
            "2       C003    BOB   17.0      6/1/2022         4000.00    No\n",
            "3       C004   BOBY   29.0      6/1/2022           75.50    No\n",
            "4       C004    Eve   29.0     12/5/2024           75.50    No\n",
            "5       C005    eve  120.0  invalid_date           45.99   Yes\n",
            "6       C006  Steve   -5.0          None           60.00    No\n",
            "7       C007   Ramu    NaN      1/1/2024           49.99  None\n",
            "8       C008   mary  220.0      3/5/2023          -30.00   Yes\n",
            "9       C008    Bob   30.0      3/5/2023           55.00    No\n"
          ]
        }
      ],
      "source": [
        "import pandas as pd\n",
        "\n",
        "# Creating the dataset\n",
        "data = {\n",
        "    \"CustomerID\": [\"C001\", \"C002\", \"C003\", \"C004\", \"C004\", \"C005\", \"C006\", \"C007\", \"C008\", \"C008\"],\n",
        "    \"Name\": [\"John\", \"Alice\", \"BOB\", \"BOBY\", \"Eve\", \"eve\", \"Steve\", \"Ramu\", \"mary\", \"Bob\"],\n",
        "    \"Age\": [25, 34, 17, 29, 29, 120, -5, None, 220, 30],\n",
        "    \"JoinDate\": [\"12/1/2024\", \"11/15/2023\", \"6/1/2022\", \"6/1/2022\", \"12/5/2024\", \"invalid_date\", None, \"1/1/2024\", \"3/5/2023\", \"3/5/2023\"],\n",
        "    \"MonthlyCharges\": [29.85, 56.95, 4000, 75.5, 75.5, 45.99, 60, 49.99, -30, 55],\n",
        "    \"Churn\": [\"No\", \"Yes\", \"No\", \"No\", \"No\", \"Yes\", \"No\", None, \"Yes\", \"No\"]\n",
        "}\n",
        "\n",
        "# Converting the dictionary into a pandas DataFrame\n",
        "df = pd.DataFrame(data)\n",
        "\n",
        "# Display the dataset\n",
        "print(df)"
      ]
    },
    {
      "cell_type": "markdown",
      "id": "48c93d49",
      "metadata": {
        "id": "48c93d49"
      },
      "source": [
        "2. Understand isnull(), isna(), notna(), notnull() and using any() or sum() functions"
      ]
    },
    {
      "cell_type": "code",
      "execution_count": 2,
      "id": "ad4a603a",
      "metadata": {
        "colab": {
          "base_uri": "https://localhost:8080/"
        },
        "id": "ad4a603a",
        "outputId": "6e03b5ed-245e-4675-eb3e-59f85989d787"
      },
      "outputs": [
        {
          "output_type": "stream",
          "name": "stdout",
          "text": [
            "Missing values using isnull():\n",
            "   CustomerID   Name    Age  JoinDate  MonthlyCharges  Churn\n",
            "0       False  False  False     False           False  False\n",
            "1       False  False  False     False           False  False\n",
            "2       False  False  False     False           False  False\n",
            "3       False  False  False     False           False  False\n",
            "4       False  False  False     False           False  False\n",
            "5       False  False  False     False           False  False\n",
            "6       False  False  False      True           False  False\n",
            "7       False  False   True     False           False   True\n",
            "8       False  False  False     False           False  False\n",
            "9       False  False  False     False           False  False\n",
            "\n",
            "Missing values using isna():\n",
            "   CustomerID   Name    Age  JoinDate  MonthlyCharges  Churn\n",
            "0       False  False  False     False           False  False\n",
            "1       False  False  False     False           False  False\n",
            "2       False  False  False     False           False  False\n",
            "3       False  False  False     False           False  False\n",
            "4       False  False  False     False           False  False\n",
            "5       False  False  False     False           False  False\n",
            "6       False  False  False      True           False  False\n",
            "7       False  False   True     False           False   True\n",
            "8       False  False  False     False           False  False\n",
            "9       False  False  False     False           False  False\n",
            "\n",
            "Non-missing values using notna():\n",
            "   CustomerID  Name    Age  JoinDate  MonthlyCharges  Churn\n",
            "0        True  True   True      True            True   True\n",
            "1        True  True   True      True            True   True\n",
            "2        True  True   True      True            True   True\n",
            "3        True  True   True      True            True   True\n",
            "4        True  True   True      True            True   True\n",
            "5        True  True   True      True            True   True\n",
            "6        True  True   True     False            True   True\n",
            "7        True  True  False      True            True  False\n",
            "8        True  True   True      True            True   True\n",
            "9        True  True   True      True            True   True\n",
            "\n",
            "Non-missing values using notnull():\n",
            "   CustomerID  Name    Age  JoinDate  MonthlyCharges  Churn\n",
            "0        True  True   True      True            True   True\n",
            "1        True  True   True      True            True   True\n",
            "2        True  True   True      True            True   True\n",
            "3        True  True   True      True            True   True\n",
            "4        True  True   True      True            True   True\n",
            "5        True  True   True      True            True   True\n",
            "6        True  True   True     False            True   True\n",
            "7        True  True  False      True            True  False\n",
            "8        True  True   True      True            True   True\n",
            "9        True  True   True      True            True   True\n",
            "\n",
            "Columns with missing values using any():\n",
            "CustomerID        False\n",
            "Name              False\n",
            "Age                True\n",
            "JoinDate           True\n",
            "MonthlyCharges    False\n",
            "Churn              True\n",
            "dtype: bool\n",
            "\n",
            "Count of missing values in each column using sum():\n",
            "CustomerID        0\n",
            "Name              0\n",
            "Age               1\n",
            "JoinDate          1\n",
            "MonthlyCharges    0\n",
            "Churn             1\n",
            "dtype: int64\n"
          ]
        }
      ],
      "source": [
        "# Checking for missing values using isnull()\n",
        "print(\"Missing values using isnull():\")\n",
        "print(df.isnull())\n",
        "\n",
        "# Checking for missing values using isna()\n",
        "print(\"\\nMissing values using isna():\")\n",
        "print(df.isna())\n",
        "\n",
        "# Checking for non-missing values using notna()\n",
        "print(\"\\nNon-missing values using notna():\")\n",
        "print(df.notna())\n",
        "\n",
        "# Checking for non-missing values using notnull()\n",
        "print(\"\\nNon-missing values using notnull():\")\n",
        "print(df.notnull())\n",
        "\n",
        "# Checking if any column has missing values using any()\n",
        "print(\"\\nColumns with missing values using any():\")\n",
        "print(df.isnull().any())\n",
        "\n",
        "# Checking if any column has missing values using sum()\n",
        "print(\"\\nCount of missing values in each column using sum():\")\n",
        "print(df.isnull().sum())\n"
      ]
    },
    {
      "cell_type": "markdown",
      "id": "b26a3695",
      "metadata": {
        "id": "b26a3695"
      },
      "source": [
        "3. Visualize the missing values using msno.matrix() function."
      ]
    },
    {
      "cell_type": "code",
      "execution_count": 3,
      "id": "c2f7aa71",
      "metadata": {
        "colab": {
          "base_uri": "https://localhost:8080/",
          "height": 707
        },
        "id": "c2f7aa71",
        "outputId": "5b4a84cb-258e-4937-ef74-3ad01e944cc1"
      },
      "outputs": [
        {
          "output_type": "execute_result",
          "data": {
            "text/plain": [
              "<Axes: >"
            ]
          },
          "metadata": {},
          "execution_count": 3
        },
        {
          "output_type": "display_data",
          "data": {
            "text/plain": [
              "<Figure size 2500x1000 with 2 Axes>"
            ],
            "image/png": "[encoded data removed]"
          },
          "metadata": {}
        }
      ],
      "source": [
        "import missingno as msno\n",
        "import pandas as pd\n",
        "\n",
        "# Assuming 'df' is your DataFrame\n",
        "\n",
        "# Visualizing missing values using msno.matrix()\n",
        "msno.matrix(df)"
      ]
    },
    {
      "cell_type": "markdown",
      "source": [
        "4. Fill the missing values with mean, median or mode wherever necessary. And display the new dataset."
      ],
      "metadata": {
        "id": "gvkrA6k_UBS5"
      },
      "id": "gvkrA6k_UBS5"
    },
    {
      "cell_type": "code",
      "source": [
        "import pandas as pd\n",
        "\n",
        "# Assuming 'df' is your original DataFrame\n",
        "\n",
        "# Fill missing values for 'Age' and 'MonthlyCharges' using mean\n",
        "df['Age'] = df['Age'].fillna(df['Age'].mean())\n",
        "df['MonthlyCharges'] = df['MonthlyCharges'].fillna(df['MonthlyCharges'].mean())\n",
        "\n",
        "# Fill missing values for 'Churn' using mode (since it's categorical)\n",
        "df['Churn'] = df['Churn'].fillna(df['Churn'].mode()[0])\n",
        "\n",
        "# Fill missing values for 'JoinDate' using mode (since it's categorical)\n",
        "df['JoinDate'] = df['JoinDate'].fillna(df['JoinDate'].mode()[0])\n",
        "\n",
        "# Fill missing values for 'Name' using mode (since it's categorical)\n",
        "df['Name'] = df['Name'].fillna(df['Name'].mode()[0])\n",
        "\n",
        "# Display the new dataset with missing values filled\n",
        "print(df)\n",
        "\n",
        "df['Age'] = df['Age'].replace(-5, df['Age'].mean())  # Replace -5 with the mean of Age\n",
        "df['MonthlyCharges'] = df['MonthlyCharges'].replace(-30, df['MonthlyCharges'].mean())\n",
        "df['JoinDate'] = df['JoinDate'].replace('invalid_date', df['JoinDate'].mode()[0])  # Replace 'invalid_date' with the mode of JoinDate\n",
        "# Display the new dataset with missing values filled\n",
        "print(df)\n"
      ],
      "metadata": {
        "colab": {
          "base_uri": "https://localhost:8080/"
        },
        "id": "IqE9avftUUQb",
        "outputId": "6ce540bb-1c77-4331-be78-57a4b1aededa"
      },
      "id": "IqE9avftUUQb",
      "execution_count": 4,
      "outputs": [
        {
          "output_type": "stream",
          "name": "stdout",
          "text": [
            "  CustomerID   Name         Age      JoinDate  MonthlyCharges Churn\n",
            "0       C001   John   25.000000     12/1/2024           29.85    No\n",
            "1       C002  Alice   34.000000    11/15/2023           56.95   Yes\n",
            "2       C003    BOB   17.000000      6/1/2022         4000.00    No\n",
            "3       C004   BOBY   29.000000      6/1/2022           75.50    No\n",
            "4       C004    Eve   29.000000     12/5/2024           75.50    No\n",
            "5       C005    eve  120.000000  invalid_date           45.99   Yes\n",
            "6       C006  Steve   -5.000000      3/5/2023           60.00    No\n",
            "7       C007   Ramu   55.444444      1/1/2024           49.99    No\n",
            "8       C008   mary  220.000000      3/5/2023          -30.00   Yes\n",
            "9       C008    Bob   30.000000      3/5/2023           55.00    No\n",
            "  CustomerID   Name         Age    JoinDate  MonthlyCharges Churn\n",
            "0       C001   John   25.000000   12/1/2024          29.850    No\n",
            "1       C002  Alice   34.000000  11/15/2023          56.950   Yes\n",
            "2       C003    BOB   17.000000    6/1/2022        4000.000    No\n",
            "3       C004   BOBY   29.000000    6/1/2022          75.500    No\n",
            "4       C004    Eve   29.000000   12/5/2024          75.500    No\n",
            "5       C005    eve  120.000000    3/5/2023          45.990   Yes\n",
            "6       C006  Steve   55.444444    3/5/2023          60.000    No\n",
            "7       C007   Ramu   55.444444    1/1/2024          49.990    No\n",
            "8       C008   mary  220.000000    3/5/2023         441.878   Yes\n",
            "9       C008    Bob   30.000000    3/5/2023          55.000    No\n"
          ]
        }
      ]
    },
    {
      "cell_type": "markdown",
      "source": [
        "5.\tDisplay the unique names."
      ],
      "metadata": {
        "id": "_ABI6bsqUsuR"
      },
      "id": "_ABI6bsqUsuR"
    },
    {
      "cell_type": "code",
      "source": [
        "import pandas as pd\n",
        "\n",
        "# Assuming 'df' is your DataFrame\n",
        "\n",
        "# Displaying the unique names in the 'Name' column\n",
        "unique_names = df['Name'].unique()\n",
        "\n",
        "# Printing the unique names\n",
        "print(unique_names)\n"
      ],
      "metadata": {
        "colab": {
          "base_uri": "https://localhost:8080/"
        },
        "id": "dGCdUA0aUt-W",
        "outputId": "5bae5c91-a559-4a48-a7ac-766e7d46610e"
      },
      "id": "dGCdUA0aUt-W",
      "execution_count": 5,
      "outputs": [
        {
          "output_type": "stream",
          "name": "stdout",
          "text": [
            "['John' 'Alice' 'BOB' 'BOBY' 'Eve' 'eve' 'Steve' 'Ramu' 'mary' 'Bob']\n"
          ]
        }
      ]
    },
    {
      "cell_type": "markdown",
      "source": [
        "6.\tIdentify the duplicated row with reference to the attribute “CustomerID”  and remove the duplicated row."
      ],
      "metadata": {
        "id": "njgf71bJUyA5"
      },
      "id": "njgf71bJUyA5"
    },
    {
      "cell_type": "code",
      "source": [
        "import pandas as pd\n",
        "\n",
        "# Assuming 'df' is your DataFrame\n",
        "\n",
        "# Identify the duplicated rows based on 'CustomerID'\n",
        "duplicated_rows = df[df.duplicated(subset='CustomerID', keep=False)]\n",
        "\n",
        "# Display duplicated rows\n",
        "print(\"Duplicated rows based on 'CustomerID':\")\n",
        "print(duplicated_rows)\n",
        "\n",
        "# Remove duplicated rows based on 'CustomerID'\n",
        "df_cleaned = df.drop_duplicates(subset='CustomerID', keep='first')\n",
        "\n",
        "# Display the cleaned dataset\n",
        "print(\"\\nDataset after removing duplicated rows:\")\n",
        "print(df_cleaned)\n"
      ],
      "metadata": {
        "colab": {
          "base_uri": "https://localhost:8080/"
        },
        "id": "rPZG2g6FUzAy",
        "outputId": "8e831855-3be2-464b-91ec-cbf20b0c4383"
      },
      "id": "rPZG2g6FUzAy",
      "execution_count": 6,
      "outputs": [
        {
          "output_type": "stream",
          "name": "stdout",
          "text": [
            "Duplicated rows based on 'CustomerID':\n",
            "  CustomerID  Name    Age   JoinDate  MonthlyCharges Churn\n",
            "3       C004  BOBY   29.0   6/1/2022          75.500    No\n",
            "4       C004   Eve   29.0  12/5/2024          75.500    No\n",
            "8       C008  mary  220.0   3/5/2023         441.878   Yes\n",
            "9       C008   Bob   30.0   3/5/2023          55.000    No\n",
            "\n",
            "Dataset after removing duplicated rows:\n",
            "  CustomerID   Name         Age    JoinDate  MonthlyCharges Churn\n",
            "0       C001   John   25.000000   12/1/2024          29.850    No\n",
            "1       C002  Alice   34.000000  11/15/2023          56.950   Yes\n",
            "2       C003    BOB   17.000000    6/1/2022        4000.000    No\n",
            "3       C004   BOBY   29.000000    6/1/2022          75.500    No\n",
            "5       C005    eve  120.000000    3/5/2023          45.990   Yes\n",
            "6       C006  Steve   55.444444    3/5/2023          60.000    No\n",
            "7       C007   Ramu   55.444444    1/1/2024          49.990    No\n",
            "8       C008   mary  220.000000    3/5/2023         441.878   Yes\n"
          ]
        }
      ]
    }
  ],
  "metadata": {
    "kernelspec": {
      "display_name": ".venv",
      "language": "python",
      "name": "python3"
    },
    "language_info": {
      "codemirror_mode": {
        "name": "ipython",
        "version": 3
      },
      "file_extension": ".py",
      "mimetype": "text/x-python",
      "name": "python",
      "nbconvert_exporter": "python",
      "pygments_lexer": "ipython3",
      "version": "3.11.5"
    },
    "colab": {
      "provenance": []
    }
  },
  "nbformat": 4,
  "nbformat_minor": 5
}