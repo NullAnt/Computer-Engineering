{
 "cells": [
  {
   "cell_type": "markdown",
   "id": "378ae684",
   "metadata": {},
   "source": [
    "1. Download VS Code and download Jupyter Notebook extension "
   ]
  },
  {
   "cell_type": "markdown",
   "id": "dea24290",
   "metadata": {},
   "source": [
    "2. Display Sum of 2 Numbers"
   ]
  },
  {
   "cell_type": "code",
   "execution_count": 9,
   "id": "36ad19d2",
   "metadata": {},
   "outputs": [
    {
     "name": "stdout",
     "output_type": "stream",
     "text": [
      "The sum of 2.0 and 2.0 is 4.0\n"
     ]
    }
   ],
   "source": [
    "# Input: Get two numbers from the user\n",
    "num1 = float(input(\"Enter the first number: \"))\n",
    "num2 = float(input(\"Enter the second number: \"))\n",
    "# num1 = 2\n",
    "# num2 = 3\n",
    "\n",
    "# Process: Add the two numbers\n",
    "sum = num1 + num2\n",
    "\n",
    "\n",
    "# Output: Display the sum\n",
    "print(f\"The sum of {num1} and {num2} is {sum}\")"
   ]
  },
  {
   "cell_type": "markdown",
   "id": "efc6a0e7",
   "metadata": {},
   "source": [
    "3. Compare Greatest and Smallest Number "
   ]
  },
  {
   "cell_type": "code",
   "execution_count": 6,
   "id": "6e370d02",
   "metadata": {},
   "outputs": [
    {
     "name": "stdout",
     "output_type": "stream",
     "text": [
      "The greatest number is 7.0\n",
      "The smallest number is 5.0\n"
     ]
    }
   ],
   "source": [
    "# Program to compare two numbers and determine the greatest and smallest\n",
    "\n",
    "\n",
    "# Input: Get two numbers from the user\n",
    "num1 = float(input(\"Enter the first number: \"))\n",
    "num2 = float(input(\"Enter the second number: \"))\n",
    "\n",
    "\n",
    "# Process: Compare the two numbers\n",
    "if num1 > num2:\n",
    "    print(f\"The greatest number is {num1}\")\n",
    "    print(f\"The smallest number is {num2}\")\n",
    "elif num1 < num2:\n",
    "    print(f\"The greatest number is {num2}\")\n",
    "    print(f\"The smallest number is {num1}\")\n",
    "else:\n",
    "    print(\"Both numbers are equal.\")"
   ]
  },
  {
   "cell_type": "markdown",
   "id": "7259d5bc",
   "metadata": {},
   "source": [
    "4. Check if a number is Positive or Negative or Zero"
   ]
  },
  {
   "cell_type": "code",
   "execution_count": 7,
   "id": "4ec1739a",
   "metadata": {},
   "outputs": [
    {
     "name": "stdout",
     "output_type": "stream",
     "text": [
      "The number 5.0 is Positive.\n"
     ]
    }
   ],
   "source": [
    "# Program to check if a number is Positive, Negative, or Zero\n",
    "\n",
    "\n",
    "# Input: Get a number from the user\n",
    "number = float(input(\"Enter a number: \"))\n",
    "\n",
    "\n",
    "# Process: Check the condition\n",
    "if number > 0:\n",
    "    print(f\"The number {number} is Positive.\")\n",
    "elif number < 0:\n",
    "    print(f\"The number {number} is Negative.\")\n",
    "else:\n",
    "    print(\"The number is Zero.\")"
   ]
  },
  {
   "cell_type": "markdown",
   "id": "2e17d592",
   "metadata": {},
   "source": [
    "5. Display first 5 Natural Numbers"
   ]
  },
  {
   "cell_type": "code",
   "execution_count": 8,
   "id": "f1143b11",
   "metadata": {},
   "outputs": [
    {
     "name": "stdout",
     "output_type": "stream",
     "text": [
      "The first five natural numbers are:\n",
      "1\n",
      "2\n",
      "3\n",
      "4\n",
      "5\n"
     ]
    }
   ],
   "source": [
    "# Program to display the first five natural numbers\n",
    "\n",
    "\n",
    "# Process: Use a for loop to iterate through numbers 1 to 5\n",
    "print(\"The first five natural numbers are:\")\n",
    "for number in range(1, 6):\n",
    "    print(number)"
   ]
  },
  {
   "cell_type": "markdown",
   "id": "3da30318",
   "metadata": {},
   "source": [
    "6. Display data of a List"
   ]
  },
  {
   "cell_type": "code",
   "execution_count": 10,
   "id": "c5537987",
   "metadata": {},
   "outputs": [
    {
     "name": "stdout",
     "output_type": "stream",
     "text": [
      "The numbers in the dataset are:\n",
      "1\n",
      "12\n",
      "13\n",
      "14\n",
      "15\n"
     ]
    }
   ],
   "source": [
    "# Dataset\n",
    "n = [1, 12, 13, 14, 15]\n",
    "\n",
    "\n",
    "# Process: Use a for loop to iterate through the dataset\n",
    "print(\"The numbers in the dataset are:\")\n",
    "for number in n:\n",
    "    print(number)"
   ]
  },
  {
   "cell_type": "markdown",
   "id": "bace5350",
   "metadata": {},
   "source": [
    "7. Display string in dataset"
   ]
  },
  {
   "cell_type": "code",
   "execution_count": 11,
   "id": "43bb8cba",
   "metadata": {},
   "outputs": [
    {
     "name": "stdout",
     "output_type": "stream",
     "text": [
      "The colors in the dataset are:\n",
      "red\n",
      "blue\n",
      "green\n"
     ]
    }
   ],
   "source": [
    "# Dataset\n",
    "color = ['red', 'blue', 'green']\n",
    "\n",
    "\n",
    "# Process: Use a for loop to iterate through the dataset\n",
    "print(\"The colors in the dataset are:\")\n",
    "for c in color:\n",
    "    print(c)"
   ]
  },
  {
   "cell_type": "markdown",
   "id": "dd626530",
   "metadata": {},
   "source": [
    "8. Function to add 2 numbers and display the result"
   ]
  },
  {
   "cell_type": "code",
   "execution_count": 12,
   "id": "ce4c5fa7",
   "metadata": {},
   "outputs": [
    {
     "name": "stdout",
     "output_type": "stream",
     "text": [
      "The sum of 10 and 20 is 30\n"
     ]
    }
   ],
   "source": [
    "# Function to add two numbers\n",
    "def add_numbers(a, b):\n",
    "    \"\"\"This function adds two numbers and returns the sum.\"\"\"\n",
    "    return a + b\n",
    "\n",
    "\n",
    "# Example usage\n",
    "num1 = 10\n",
    "num2 = 20\n",
    "result = add_numbers(num1, num2)\n",
    "print(f\"The sum of {num1} and {num2} is {result}\")"
   ]
  },
  {
   "cell_type": "markdown",
   "id": "c8e39c57",
   "metadata": {},
   "source": [
    "9. Create Dataset from pandas and display it"
   ]
  },
  {
   "cell_type": "code",
   "execution_count": 13,
   "id": "1211523d",
   "metadata": {},
   "outputs": [
    {
     "name": "stdout",
     "output_type": "stream",
     "text": [
      "   ID    Name  Age\n",
      "0   1     Ram   25\n",
      "1   2    Hari   35\n",
      "2   3  Bishnu   40\n"
     ]
    }
   ],
   "source": [
    "import pandas as pd\n",
    "# creating a dataset\n",
    "data = pd.DataFrame({\n",
    "    'ID': [1,2,3],\n",
    "    'Name' : ['Ram', 'Hari', 'Bishnu'],\n",
    "    'Age': [25,35, 40]\n",
    "})\n",
    "print(data)"
   ]
  },
  {
   "cell_type": "markdown",
   "id": "925314e4",
   "metadata": {},
   "source": [
    "10. Load Dataset from csv file and display it"
   ]
  },
  {
   "cell_type": "code",
   "execution_count": null,
   "id": "2b2929ef",
   "metadata": {},
   "outputs": [
    {
     "name": "stdout",
     "output_type": "stream",
     "text": [
      "Data loaded from the CSV file:\n",
      "   Age  Height\n",
      "0   25   160.0\n",
      "1   30    17.0\n",
      "2   35   180.0\n",
      "3   40     NaN\n",
      "4   45   165.0\n",
      "5   50   170.0\n"
     ]
    }
   ],
   "source": [
    "import pandas as pd\n",
    "# Load a dataset from a CSV file\n",
    "data = pd.read_csv(\"D:\\computer engineering\\Semester 6\\Machine Learning\\datas\\lab1_first_csv.csv\")\n",
    "print(\"Data loaded from the CSV file:\")\n",
    "print(data)\n"
   ]
  },
  {
   "cell_type": "code",
   "execution_count": 25,
   "id": "062e6cff",
   "metadata": {},
   "outputs": [
    {
     "name": "stdout",
     "output_type": "stream",
     "text": [
      "DataFrame Description:\n",
      "             Age     Height\n",
      "count   6.000000    5.00000\n",
      "mean   37.500000  138.40000\n",
      "std     9.354143   68.26639\n",
      "min    25.000000   17.00000\n",
      "25%    31.250000  160.00000\n",
      "50%    37.500000  165.00000\n",
      "75%    43.750000  170.00000\n",
      "max    50.000000  180.00000\n",
      "\n",
      "DataFrame Shape:\n",
      " (6, 2)\n",
      "\n",
      "<class 'pandas.core.frame.DataFrame'>\n",
      "RangeIndex: 6 entries, 0 to 5\n",
      "Data columns (total 2 columns):\n",
      " #   Column  Non-Null Count  Dtype  \n",
      "---  ------  --------------  -----  \n",
      " 0   Age     6 non-null      int64  \n",
      " 1   Height  5 non-null      float64\n",
      "dtypes: float64(1), int64(1)\n",
      "memory usage: 228.0 bytes\n",
      "DataFrame Information:\n",
      " None\n",
      "\n",
      "DataFrame Head:\n",
      "    Age  Height\n",
      "0   25   160.0\n",
      "1   30    17.0\n",
      "2   35   180.0\n",
      "3   40     NaN\n",
      "4   45   165.0\n",
      "\n",
      "DataFrame Tail:\n",
      "    Age  Height\n",
      "1   30    17.0\n",
      "2   35   180.0\n",
      "3   40     NaN\n",
      "4   45   165.0\n",
      "5   50   170.0\n",
      "\n",
      "DataFrame Rows from index 3 to 5:\n",
      "    Age  Height\n",
      "3   40     NaN\n",
      "4   45   165.0\n",
      "5   50   170.0\n",
      "\n",
      "DataFrame Age:\n",
      " 0    25\n",
      "1    30\n",
      "2    35\n",
      "3    40\n",
      "4    45\n",
      "5    50\n",
      "Name: Age, dtype: int64\n",
      "\n",
      "DataFrame Height:\n",
      " 0    160.0\n",
      "1     17.0\n",
      "2    180.0\n",
      "3      NaN\n",
      "4    165.0\n",
      "5    170.0\n",
      "Name: Height, dtype: float64\n",
      "\n"
     ]
    }
   ],
   "source": [
    "import pandas as pd\n",
    "\n",
    "\n",
    "df = pd.read_csv(\"D:\\computer engineering\\Semester 6\\Machine Learning\\datas\\lab1_first_csv.csv\")\n",
    "\n",
    "\n",
    "# a) Display the description of the dataset\n",
    "print(f\"DataFrame Description:\\n{df.describe()}\")\n",
    "print()\n",
    "\n",
    "\n",
    "# b) Display the shape of the dataframe\n",
    "print(\"DataFrame Shape:\\n\",df.shape)\n",
    "print()\n",
    "\n",
    "\n",
    "# c) Display the information of the dataframe\n",
    "print(\"DataFrame Information:\\n\", df.info())\n",
    "print()\n",
    "\n",
    "\n",
    "# d) Only the first five rows\n",
    "print(\"DataFrame Head:\\n\",df.head())\n",
    "print()\n",
    "\n",
    "\n",
    "# e) Only the last five rows\n",
    "print(\"DataFrame Tail:\\n\", df.tail())\n",
    "print()\n",
    "\n",
    "\n",
    "# f) Only the rows from index 3 to 5\n",
    "print(\"DataFrame Rows from index 3 to 5:\\n\", df.iloc[3:6])\n",
    "print()\n",
    "\n",
    "\n",
    "# g) Only the column “Age”\n",
    "print(\"DataFrame Age:\\n\", df['Age'])\n",
    "print()\n",
    "\n",
    "\n",
    "# h) Only the column “Height”\n",
    "print(\"DataFrame Height:\\n\", df['Height'])\n",
    "print()"
   ]
  }
 ],
 "metadata": {
  "kernelspec": {
   "display_name": ".venv",
   "language": "python",
   "name": "python3"
  },
  "language_info": {
   "codemirror_mode": {
    "name": "ipython",
    "version": 3
   },
   "file_extension": ".py",
   "mimetype": "text/x-python",
   "name": "python",
   "nbconvert_exporter": "python",
   "pygments_lexer": "ipython3",
   "version": "3.11.5"
  }
 },
 "nbformat": 4,
 "nbformat_minor": 5
}
